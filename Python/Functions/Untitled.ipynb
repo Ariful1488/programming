{
 "cells": [
  {
   "cell_type": "code",
   "execution_count": null,
   "id": "b81099df-b44f-4f12-86cf-1da786383a29",
   "metadata": {},
   "outputs": [],
   "source": [
    "# a group of code which reduce redundant "
   ]
  },
  {
   "cell_type": "code",
   "execution_count": null,
   "id": "5b79438b-c9e3-4f8f-9303-7cf48c1dafbd",
   "metadata": {},
   "outputs": [],
   "source": [
    "''' def func_name(parameter1, parameter2):\n",
    "        operations\n",
    "        return result\n",
    "\n",
    "\n",
    "\n",
    "    func_name(arument1,argument2)\n",
    "\n",
    "\n",
    "\n",
    "'''"
   ]
  },
  {
   "cell_type": "code",
   "execution_count": 1,
   "id": "af7594af-41c7-4c69-9672-83e8cbada447",
   "metadata": {},
   "outputs": [],
   "source": [
    "#example-1: calculate sum\n",
    "def sum_calcutaion(x,y):\n",
    "    summation = x + y\n",
    "    return summation\n",
    "    "
   ]
  },
  {
   "cell_type": "code",
   "execution_count": 2,
   "id": "b706b407-c816-4cb0-91d0-becd57aaeb8f",
   "metadata": {},
   "outputs": [
    {
     "data": {
      "text/plain": [
       "11"
      ]
     },
     "execution_count": 2,
     "metadata": {},
     "output_type": "execute_result"
    }
   ],
   "source": [
    "#now make summation between 5 6\n",
    "sum_calcutaion(5,6)#expected result is 11"
   ]
  },
  {
   "cell_type": "code",
   "execution_count": null,
   "id": "f8457725-d113-473e-a2f9-1ecf670632b9",
   "metadata": {},
   "outputs": [],
   "source": [
    "#we can store this summation into a variable,. leat assume i want ot store it into \n"
   ]
  }
 ],
 "metadata": {
  "kernelspec": {
   "display_name": "Python 3 (ipykernel)",
   "language": "python",
   "name": "python3"
  },
  "language_info": {
   "codemirror_mode": {
    "name": "ipython",
    "version": 3
   },
   "file_extension": ".py",
   "mimetype": "text/x-python",
   "name": "python",
   "nbconvert_exporter": "python",
   "pygments_lexer": "ipython3",
   "version": "3.11.5"
  }
 },
 "nbformat": 4,
 "nbformat_minor": 5
}

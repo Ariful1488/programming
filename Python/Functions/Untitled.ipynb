{
 "cells": [
  {
   "cell_type": "code",
   "execution_count": null,
   "id": "b81099df-b44f-4f12-86cf-1da786383a29",
   "metadata": {},
   "outputs": [],
   "source": [
    "# a group of code which reduce redundant "
   ]
  },
  {
   "cell_type": "code",
   "execution_count": null,
   "id": "5b79438b-c9e3-4f8f-9303-7cf48c1dafbd",
   "metadata": {},
   "outputs": [],
   "source": [
    "''' def func_name(parameter1, parameter2):\n",
    "        operations\n",
    "        return result\n",
    "\n",
    "\n",
    "\n",
    "    func_name(arument1,argument2)\n",
    "\n",
    "\n",
    "\n",
    "'''"
   ]
  },
  {
   "cell_type": "code",
   "execution_count": 1,
   "id": "af7594af-41c7-4c69-9672-83e8cbada447",
   "metadata": {},
   "outputs": [],
   "source": [
    "#example-1: calculate sum\n",
    "def sum_calcutaion(x,y): #the whole process is called fuction defination and x,y is called parameters \n",
    "    summation = x + y\n",
    "    return summation\n",
    "    "
   ]
  },
  {
   "cell_type": "code",
   "execution_count": 2,
   "id": "b706b407-c816-4cb0-91d0-becd57aaeb8f",
   "metadata": {},
   "outputs": [
    {
     "data": {
      "text/plain": [
       "11"
      ]
     },
     "execution_count": 2,
     "metadata": {},
     "output_type": "execute_result"
    }
   ],
   "source": [
    "#now make summation between 5 6\n",
    "sum_calcutaion(5,6) # this process is called fuction call and 5 and 6 is called arguments\n",
    "#expected result is 11"
   ]
  },
  {
   "cell_type": "code",
   "execution_count": 3,
   "id": "f8457725-d113-473e-a2f9-1ecf670632b9",
   "metadata": {},
   "outputs": [],
   "source": [
    "#we can store this summation into a variable,. leat assume i want ot store it into z variable\n",
    "\n",
    "z = sum_calcutaion(5,5)\n"
   ]
  },
  {
   "cell_type": "code",
   "execution_count": 4,
   "id": "533a425b-653f-444d-aee3-46943450bf4f",
   "metadata": {},
   "outputs": [
    {
     "name": "stdout",
     "output_type": "stream",
     "text": [
      "10\n"
     ]
    }
   ],
   "source": [
    "# we can print that variable\n",
    "print(z)"
   ]
  },
  {
   "cell_type": "markdown",
   "id": "95a6da8f-9d90-43f4-984b-eac14fe35340",
   "metadata": {},
   "source": [
    "# another simple function"
   ]
  },
  {
   "cell_type": "code",
   "execution_count": 1,
   "id": "cfe9812e-6e3e-486b-891d-02d427555f85",
   "metadata": {},
   "outputs": [],
   "source": [
    "def hello_print():\n",
    "    print('hello')"
   ]
  },
  {
   "cell_type": "code",
   "execution_count": 4,
   "id": "db3e588b-805c-4b66-bf60-1131b5315216",
   "metadata": {},
   "outputs": [
    {
     "name": "stdout",
     "output_type": "stream",
     "text": [
      "hello\n",
      "hello\n",
      "hello\n"
     ]
    }
   ],
   "source": [
    "hello_print()\n",
    "hello_print()\n",
    "hello_print()\n"
   ]
  },
  {
   "cell_type": "code",
   "execution_count": 5,
   "id": "1eadea93-4597-4e93-85e3-8e36ba079b31",
   "metadata": {},
   "outputs": [],
   "source": [
    "#if we do not return of a function , then the print of that function will be none\n",
    "def none_func():\n",
    "    print('abul')"
   ]
  },
  {
   "cell_type": "code",
   "execution_count": 6,
   "id": "28aa52c8-cffd-4879-9cf2-abd1b8ddf802",
   "metadata": {},
   "outputs": [
    {
     "name": "stdout",
     "output_type": "stream",
     "text": [
      "abul\n",
      "None\n"
     ]
    }
   ],
   "source": [
    "a = none_func()\n",
    "print(a)"
   ]
  },
  {
   "cell_type": "code",
   "execution_count": 7,
   "id": "44f1be32-530b-4700-a714-31bdc6d1fb75",
   "metadata": {},
   "outputs": [],
   "source": [
    "#let calculate average numbers function\n",
    "def specific_average (x,y,z):\n",
    "    sum_numbers = x + y + z\n",
    "    avg = sum_numbers / 3\n",
    "    return avg\n"
   ]
  },
  {
   "cell_type": "code",
   "execution_count": 8,
   "id": "4eec6da2-3c61-417a-aaf9-069a134b1d5d",
   "metadata": {},
   "outputs": [
    {
     "data": {
      "text/plain": [
       "2.0"
      ]
     },
     "execution_count": 8,
     "metadata": {},
     "output_type": "execute_result"
    }
   ],
   "source": [
    "specific_average(1,2,3)"
   ]
  },
  {
   "cell_type": "code",
   "execution_count": 9,
   "id": "6dabfc7d-a9d4-4d73-9690-d5b7d3fa7da0",
   "metadata": {},
   "outputs": [],
   "source": [
    "#now lets write a generic code of average\n",
    "\n",
    "def average(values):\n",
    "    if not values:\n",
    "        return 0\n",
    "    return sum(values)/len(values)\n",
    "    "
   ]
  },
  {
   "cell_type": "code",
   "execution_count": 14,
   "id": "01a7cf1e-b1d3-4385-8a4c-aba2c2af9593",
   "metadata": {},
   "outputs": [
    {
     "ename": "TypeError",
     "evalue": "average() takes 1 positional argument but 3 were given",
     "output_type": "error",
     "traceback": [
      "\u001b[0;31m---------------------------------------------------------------------------\u001b[0m",
      "\u001b[0;31mTypeError\u001b[0m                                 Traceback (most recent call last)",
      "Cell \u001b[0;32mIn[14], line 1\u001b[0m\n\u001b[0;32m----> 1\u001b[0m average(\u001b[38;5;241m1\u001b[39m,\u001b[38;5;241m2\u001b[39m,\u001b[38;5;241m3\u001b[39m)\n",
      "\u001b[0;31mTypeError\u001b[0m: average() takes 1 positional argument but 3 were given"
     ]
    }
   ],
   "source": [
    "average(1,2,3)"
   ]
  },
  {
   "cell_type": "code",
   "execution_count": null,
   "id": "1fd3efd9-d426-4138-85aa-f04d464e67e7",
   "metadata": {},
   "outputs": [],
   "source": [
    "'''\n",
    "Exüplanation of Error:\n",
    "\n",
    "error: TypeError: average() takes 1 positional argument but 3 were given\n",
    "\n",
    "what does it mean by 1 positional, but we provide 3 argument?\n",
    "Answer: look we provided one position parameters when we defined function: def average(values), valuge only one postion\n",
    "Thus, which structure can represent multiple numbers in a singele postion, that list\n",
    "\n",
    "\n",
    "'''"
   ]
  },
  {
   "cell_type": "code",
   "execution_count": 15,
   "id": "f95ec75f-1aeb-4346-a31b-5889d029df40",
   "metadata": {},
   "outputs": [
    {
     "data": {
      "text/plain": [
       "2.0"
      ]
     },
     "execution_count": 15,
     "metadata": {},
     "output_type": "execute_result"
    }
   ],
   "source": [
    "average([1,2,3]) # here only one position but contains many numbers"
   ]
  },
  {
   "cell_type": "code",
   "execution_count": 16,
   "id": "1ae7ecb6-7fc1-4853-b7b4-b9a88e8bbf27",
   "metadata": {},
   "outputs": [],
   "source": [
    "# so how do i make average for another data structures data like tuple , sets etc\n",
    "# we will make list all types data into the list\n",
    "\n",
    "def all_avg(numbers):\n",
    "    list_num = list(numbers)\n",
    "    if not list_num:\n",
    "        return 0\n",
    "    return sum(list_num ) / len(list_num )"
   ]
  },
  {
   "cell_type": "code",
   "execution_count": 20,
   "id": "f3f63b7e-60b3-4c96-aad5-fd562fa01bdc",
   "metadata": {},
   "outputs": [
    {
     "data": {
      "text/plain": [
       "2.0"
      ]
     },
     "execution_count": 20,
     "metadata": {},
     "output_type": "execute_result"
    }
   ],
   "source": [
    "all_avg({1,2,3})"
   ]
  },
  {
   "cell_type": "code",
   "execution_count": null,
   "id": "74ae460c-ff71-474b-84ac-c484aa728055",
   "metadata": {},
   "outputs": [],
   "source": []
  }
 ],
 "metadata": {
  "kernelspec": {
   "display_name": "Python 3 (ipykernel)",
   "language": "python",
   "name": "python3"
  },
  "language_info": {
   "codemirror_mode": {
    "name": "ipython",
    "version": 3
   },
   "file_extension": ".py",
   "mimetype": "text/x-python",
   "name": "python",
   "nbconvert_exporter": "python",
   "pygments_lexer": "ipython3",
   "version": "3.11.5"
  }
 },
 "nbformat": 4,
 "nbformat_minor": 5
}

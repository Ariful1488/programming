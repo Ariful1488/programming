{
 "cells": [
  {
   "cell_type": "code",
   "execution_count": null,
   "id": "4f7bb1d4-9d09-41fa-8206-314022048f40",
   "metadata": {},
   "outputs": [],
   "source": [
    "'''\n",
    "A nested for loop is a loop inside another loop. The inner loop runs completely for each iteration of the outer loop.\n",
    "'''"
   ]
  },
  {
   "cell_type": "code",
   "execution_count": 7,
   "id": "a3d8e238-cb9c-40d6-8060-57c0778f8a4f",
   "metadata": {},
   "outputs": [
    {
     "name": "stdout",
     "output_type": "stream",
     "text": [
      "0 1 2 3 4 \n",
      "0 1 2 3 4 \n",
      "0 1 2 3 4 \n",
      "0 1 2 3 4 \n",
      "0 1 2 3 4 \n"
     ]
    }
   ],
   "source": [
    "for i in range(5): \n",
    "    for j in range(4):\n",
    "        print(j, end =' ')\n",
    "    print()\n",
    "'''\n",
    "first loop is called the outer for loop and the inside for loop is called inner for loop.\n",
    "for outer for loop, range(5) means that this loop is performed 5 times(0,1,2,3,4).\n",
    "when i = 0, then loop inside enter into the inner loop. code will find range(4).\n",
    "            Here, j value will 0,1,2,3 means that inner loop will be performed  4 times.\n",
    "            when j = 0; it will be print 0\n",
    "            when j = 1; it will be print 1\n",
    "            when j = 2; it will be print 2\n",
    "            when j = 3; it will be print 3\n",
    "            after, it will again return outer loop to i\n",
    "\n",
    "now i = 1 and code will again enter to inner loop\n",
    "\n",
    "'''     \n",
    "    \n",
    "        "
   ]
  },
  {
   "cell_type": "code",
   "execution_count": 71,
   "id": "3a8f94d2-64e0-45a5-a609-6c6813216ae0",
   "metadata": {},
   "outputs": [
    {
     "name": "stdout",
     "output_type": "stream",
     "text": [
      "\n",
      "* \n",
      "* * \n",
      "* * * \n",
      "* * * * \n",
      "* * * * * \n",
      "* * * * * * \n",
      "* * * * * * * \n",
      "* * * * * * * * \n",
      "* * * * * * * * * \n",
      "* * * * * * * * * * \n",
      "* * * * * * * * * * * \n",
      "* * * * * * * * * * * * \n",
      "* * * * * * * * * * * * * \n",
      "* * * * * * * * * * * * * * \n",
      "* * * * * * * * * * * * * * * \n",
      "* * * * * * * * * * * * * * * * \n",
      "* * * * * * * * * * * * * * * * * \n",
      "* * * * * * * * * * * * * * * * * * \n",
      "* * * * * * * * * * * * * * * * * * * \n",
      "* * * * * * * * * * * * * * * * * * * * \n"
     ]
    }
   ],
   "source": [
    "#print increasing triangle\n",
    "''' \n",
    "*\n",
    "* *\n",
    "* * *\n",
    "* * * *\n",
    "* * * * *\n",
    "* * * * * *\n",
    "* * * * * * * \n",
    "* * * * * * * *\n",
    "* * * * * * * * *\n",
    "* * * * * * * * * *\n",
    "\n",
    "lets assume n = 10,\n",
    "\n",
    "'''\n",
    "n = 20\n",
    "for i in range(n+1):\n",
    "    for j in range(i):\n",
    "        print('*',end = ' ')\n",
    "    print()\n",
    "   "
   ]
  },
  {
   "cell_type": "code",
   "execution_count": 70,
   "id": "6a25c33a-f7f3-48b4-b082-47b77bb18d14",
   "metadata": {},
   "outputs": [
    {
     "name": "stdout",
     "output_type": "stream",
     "text": [
      "* \n",
      "* * \n",
      "* * * \n",
      "* * * * \n",
      "* * * * * \n",
      "* * * * * * \n",
      "* * * * * * * \n",
      "* * * * * * * * \n",
      "* * * * * * * * * \n",
      "* * * * * * * * * * \n",
      "* * * * * * * * * * * \n",
      "* * * * * * * * * * * * \n",
      "* * * * * * * * * * * * * \n",
      "* * * * * * * * * * * * * * \n",
      "* * * * * * * * * * * * * * * \n",
      "* * * * * * * * * * * * * * * * \n",
      "* * * * * * * * * * * * * * * * * \n",
      "* * * * * * * * * * * * * * * * * * \n",
      "* * * * * * * * * * * * * * * * * * * \n",
      "* * * * * * * * * * * * * * * * * * * * \n"
     ]
    }
   ],
   "source": [
    "n = 20\n",
    "for i in range(n):\n",
    "    for j in range(i+1):\n",
    "        \n",
    "        print('*',end =' ')\n",
    "    print()"
   ]
  },
  {
   "cell_type": "code",
   "execution_count": 69,
   "id": "6e2a012a-901c-4de5-8bbd-49e7b3a7db79",
   "metadata": {},
   "outputs": [
    {
     "name": "stdout",
     "output_type": "stream",
     "text": [
      "* * * * * * * * * * * * * * * * * * * * \n",
      "* * * * * * * * * * * * * * * * * * * \n",
      "* * * * * * * * * * * * * * * * * * \n",
      "* * * * * * * * * * * * * * * * * \n",
      "* * * * * * * * * * * * * * * * \n",
      "* * * * * * * * * * * * * * * \n",
      "* * * * * * * * * * * * * * \n",
      "* * * * * * * * * * * * * \n",
      "* * * * * * * * * * * * \n",
      "* * * * * * * * * * * \n",
      "* * * * * * * * * * \n",
      "* * * * * * * * * \n",
      "* * * * * * * * \n",
      "* * * * * * * \n",
      "* * * * * * \n",
      "* * * * * \n",
      "* * * * \n",
      "* * * \n",
      "* * \n",
      "* \n",
      "\n"
     ]
    }
   ],
   "source": [
    "#print decdreasing triangle\n",
    "n = 20\n",
    "for i in range(n,-1,-1):\n",
    "    for j in range(i):\n",
    "        print('*',end = ' ')\n",
    "    print()\n",
    "    "
   ]
  },
  {
   "cell_type": "code",
   "execution_count": 55,
   "id": "23b7e3cd-33a3-4ac0-a43e-9032c5b7a53a",
   "metadata": {},
   "outputs": [
    {
     "name": "stdout",
     "output_type": "stream",
     "text": [
      "                                        * \n",
      "                                      * * \n",
      "                                    * * * \n",
      "                                  * * * * \n",
      "                                * * * * * \n",
      "                              * * * * * * \n",
      "                            * * * * * * * \n",
      "                          * * * * * * * * \n",
      "                        * * * * * * * * * \n",
      "                      * * * * * * * * * * \n",
      "                    * * * * * * * * * * * \n",
      "                  * * * * * * * * * * * * \n",
      "                * * * * * * * * * * * * * \n",
      "              * * * * * * * * * * * * * * \n",
      "            * * * * * * * * * * * * * * * \n",
      "          * * * * * * * * * * * * * * * * \n",
      "        * * * * * * * * * * * * * * * * * \n",
      "      * * * * * * * * * * * * * * * * * * \n",
      "    * * * * * * * * * * * * * * * * * * * \n",
      "  * * * * * * * * * * * * * * * * * * * * \n"
     ]
    }
   ],
   "source": [
    "#Right sided triangle\n",
    "'''\n",
    "1. first you have to think about patterns is size. How many rows and how many columns?\n",
    "\n",
    "+ + + + + + + + + *\n",
    "+ + + + + + + + * *\n",
    "+ + + + + + + * * * # row n = 10\n",
    "+ + + + + + * * * * # column = 10\n",
    "+ + + + + * * * * *\n",
    "+ + + + * * * * * *\n",
    "+ + + * * * * * * *\n",
    "+ + * * * * * * * *\n",
    "+ * * * * * * * * *\n",
    "\n",
    "'''\n",
    "n = 20\n",
    "for i in range(n):\n",
    "    for j in range(i,n):\n",
    "        print(' ',end =' ')\n",
    "    for k in range(i+1):\n",
    "        print('*',end = ' ')\n",
    "    print()"
   ]
  },
  {
   "cell_type": "code",
   "execution_count": 62,
   "id": "3d0d075b-81fc-4bf8-a38e-80ccda3a63e4",
   "metadata": {},
   "outputs": [
    {
     "name": "stdout",
     "output_type": "stream",
     "text": [
      "  * * * * * * * * * * * * * * * * * * * * \n",
      "    * * * * * * * * * * * * * * * * * * * \n",
      "      * * * * * * * * * * * * * * * * * * \n",
      "        * * * * * * * * * * * * * * * * * \n",
      "          * * * * * * * * * * * * * * * * \n",
      "            * * * * * * * * * * * * * * * \n",
      "              * * * * * * * * * * * * * * \n",
      "                * * * * * * * * * * * * * \n",
      "                  * * * * * * * * * * * * \n",
      "                    * * * * * * * * * * * \n",
      "                      * * * * * * * * * * \n",
      "                        * * * * * * * * * \n",
      "                          * * * * * * * * \n",
      "                            * * * * * * * \n",
      "                              * * * * * * \n",
      "                                * * * * * \n",
      "                                  * * * * \n",
      "                                    * * * \n",
      "                                      * * \n",
      "                                        * \n"
     ]
    }
   ],
   "source": [
    "#left triangle\n",
    "'''\n",
    "+ * * * * *\n",
    "+ + * * * *\n",
    "+ + + * * *\n",
    "+ + + + * *\n",
    "+ + + + + *\n",
    "'''\n",
    "n = 20\n",
    "\n",
    "for i in range(n):\n",
    "    for j in range(i+1):\n",
    "        print(' ',end = ' ')\n",
    "    for k in range(i,n):\n",
    "        print('*',end = ' ')\n",
    "    print()"
   ]
  },
  {
   "cell_type": "code",
   "execution_count": 68,
   "id": "3ec5ee23-57b4-4413-b49f-8985994967c8",
   "metadata": {},
   "outputs": [
    {
     "name": "stdout",
     "output_type": "stream",
     "text": [
      "                                        * \n",
      "                                      * * * \n",
      "                                    * * * * * \n",
      "                                  * * * * * * * \n",
      "                                * * * * * * * * * \n",
      "                              * * * * * * * * * * * \n",
      "                            * * * * * * * * * * * * * \n",
      "                          * * * * * * * * * * * * * * * \n",
      "                        * * * * * * * * * * * * * * * * * \n",
      "                      * * * * * * * * * * * * * * * * * * * \n",
      "                    * * * * * * * * * * * * * * * * * * * * * \n",
      "                  * * * * * * * * * * * * * * * * * * * * * * * \n",
      "                * * * * * * * * * * * * * * * * * * * * * * * * * \n",
      "              * * * * * * * * * * * * * * * * * * * * * * * * * * * \n",
      "            * * * * * * * * * * * * * * * * * * * * * * * * * * * * * \n",
      "          * * * * * * * * * * * * * * * * * * * * * * * * * * * * * * * \n",
      "        * * * * * * * * * * * * * * * * * * * * * * * * * * * * * * * * * \n",
      "      * * * * * * * * * * * * * * * * * * * * * * * * * * * * * * * * * * * \n",
      "    * * * * * * * * * * * * * * * * * * * * * * * * * * * * * * * * * * * * * \n",
      "  * * * * * * * * * * * * * * * * * * * * * * * * * * * * * * * * * * * * * * * \n"
     ]
    }
   ],
   "source": [
    "#Hill pattern \n",
    "'''\n",
    ". . . * . . .\n",
    ". . * * * . .\n",
    ". * * * * * .\n",
    "* * * * * * *\n",
    "\n",
    "'''\n",
    "n = 20\n",
    "for i in range(n):\n",
    "    for j in range(i,n):\n",
    "        print(' ',end =' ')\n",
    "    for k in range(i):\n",
    "        print('*',end = ' ')\n",
    "    \n",
    "    for l in range(i+1):\n",
    "        \n",
    "        print('*',end =' ')\n",
    "\n",
    "    \n",
    "    print()"
   ]
  },
  {
   "cell_type": "code",
   "execution_count": null,
   "id": "9cd91fa2-08a0-4c95-b1ff-b4a7226285a0",
   "metadata": {},
   "outputs": [],
   "source": []
  }
 ],
 "metadata": {
  "kernelspec": {
   "display_name": "Python 3 (ipykernel)",
   "language": "python",
   "name": "python3"
  },
  "language_info": {
   "codemirror_mode": {
    "name": "ipython",
    "version": 3
   },
   "file_extension": ".py",
   "mimetype": "text/x-python",
   "name": "python",
   "nbconvert_exporter": "python",
   "pygments_lexer": "ipython3",
   "version": "3.11.5"
  }
 },
 "nbformat": 4,
 "nbformat_minor": 5
}
